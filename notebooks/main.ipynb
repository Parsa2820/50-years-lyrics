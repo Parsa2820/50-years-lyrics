{
  "cells": [
    {
      "cell_type": "markdown",
      "metadata": {
        "colab_type": "text",
        "id": "view-in-github"
      },
      "source": [
        "<a href=\"https://colab.research.google.com/github/Parsa2820/50-years-lyrics/blob/master/notebooks/main.ipynb\" target=\"_parent\"><img src=\"https://colab.research.google.com/assets/colab-badge.svg\" alt=\"Open In Colab\"/></a>"
      ]
    },
    {
      "cell_type": "markdown",
      "metadata": {
        "id": "uxzVzDeBuhnQ"
      },
      "source": [
        "### Sharif University of Technology\n",
        "Department of Computer Engineering\n",
        "\n",
        "---\n",
        "# Modern Information Retrieval Course\n",
        "# **50 Years of the Best-Selling Music Artists Lyrics Comparison**\n",
        "### Homework 2\n",
        "### Dr. Asgari\n",
        "### Parsa Mohammadian — 98102284\n",
        "Spring 2022\n",
        "\n",
        "---"
      ]
    },
    {
      "cell_type": "markdown",
      "metadata": {
        "id": "clJHGT4kxTiK"
      },
      "source": [
        "## Introduction\n",
        "The art of music play an important role in the human world. Besides the instrumental aspect, lyrics and content of a music are also important. In this project, we will explore and compare the lyrics of the best-selling music artists in a 50 years period (from 1969 to 2019). This list is taken from [Visual Capitalist](https://www.visualcapitalist.com/chart-toppers-50-years-of-the-best-selling-music-artists/) website. They have also visualized this data in an awesome [video](https://www.youtube.com/watch?v=a3w8I8boc_I). For the reference, I will use the image bellow to pick artist that has been top-selling for at least ones consecutive year. Since the dataset is not provided, I have hardcoded the artists and their info in the code.\n",
        "\n",
        "![top-seller-chart](../resources/top-sellers-chart.jpg)\n",
        "\n",
        "---"
      ]
    },
    {
      "cell_type": "code",
      "execution_count": 1,
      "metadata": {},
      "outputs": [],
      "source": [
        "class Artist:\n",
        "    def __init__(self, name: str, top_seller_begin_year: int):\n",
        "        self.name: str = name\n",
        "        self.top_seller_begin_year: int = top_seller_begin_year\n",
        "        self.lyrics: pd.DataFrame = None\n",
        "\n",
        "artists = [\n",
        "    Artist(\"The Beatles\", 1969),\n",
        "    Artist(\"Elvis Presley\", 1973),\n",
        "    Artist(\"Elton John\", 1975),\n",
        "    Artist(\"The Eagles\", 1977),\n",
        "    Artist(\"Michael Jackson\", 1980),\n",
        "    Artist(\"Madonna\", 1985),\n",
        "    Artist(\"Eminem\", 2001),\n",
        "    Artist(\"Rihanna\", 2008),\n",
        "    Artist(\"Drake\", 2013)\n",
        "]"
      ]
    },
    {
      "cell_type": "markdown",
      "metadata": {
        "id": "_hT2I1qByZFg"
      },
      "source": [
        "## Required Libraries\n",
        "\n",
        "---"
      ]
    },
    {
      "cell_type": "code",
      "execution_count": null,
      "metadata": {
        "id": "BU5Yl04FyggQ"
      },
      "outputs": [],
      "source": [
        "\"\"\"\n",
        "Run this cell to install required python packages.\n",
        "Skip if you have already installed following packages.\n",
        "\"\"\"\n",
        "!pip install pandas\n",
        "!pip install tqdm\n",
        "!pip install nltk"
      ]
    },
    {
      "cell_type": "code",
      "execution_count": null,
      "metadata": {
        "id": "DkL_iCaOyv6b"
      },
      "outputs": [],
      "source": [
        "import pandas as pd\n",
        "import tqdm\n",
        "import nltk"
      ]
    },
    {
      "cell_type": "markdown",
      "metadata": {
        "id": "8hySArqrxjvR"
      },
      "source": [
        "## Dataset\n",
        "Overview and extraction process of dataset here\n",
        "\n",
        "---"
      ]
    },
    {
      "cell_type": "code",
      "execution_count": null,
      "metadata": {
        "id": "ks4lM_1v0EOw"
      },
      "outputs": [],
      "source": [
        "\"\"\"\n",
        "Read data\n",
        "\"\"\""
      ]
    }
  ],
  "metadata": {
    "colab": {
      "authorship_tag": "ABX9TyPOgAEDMIDhOp1gPYF4emtB",
      "collapsed_sections": [
        "8hySArqrxjvR"
      ],
      "include_colab_link": true,
      "name": "main.ipynb",
      "provenance": []
    },
    "kernelspec": {
      "display_name": "Python 3",
      "name": "python3"
    },
    "language_info": {
      "codemirror_mode": {
        "name": "ipython",
        "version": 3
      },
      "file_extension": ".py",
      "mimetype": "text/x-python",
      "name": "python",
      "nbconvert_exporter": "python",
      "pygments_lexer": "ipython3",
      "version": "3.10.4"
    }
  },
  "nbformat": 4,
  "nbformat_minor": 0
}
