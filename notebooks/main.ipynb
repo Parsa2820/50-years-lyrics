{
  "cells": [
    {
      "cell_type": "markdown",
      "metadata": {
        "colab_type": "text",
        "id": "view-in-github"
      },
      "source": [
        "<a href=\"https://colab.research.google.com/github/Parsa2820/50-years-lyrics/blob/master/notebooks/main.ipynb\" target=\"_parent\"><img src=\"https://colab.research.google.com/assets/colab-badge.svg\" alt=\"Open In Colab\"/></a>"
      ]
    },
    {
      "cell_type": "markdown",
      "metadata": {
        "id": "uxzVzDeBuhnQ"
      },
      "source": [
        "### Sharif University of Technology\n",
        "Department of Computer Engineering\n",
        "\n",
        "---\n",
        "# Modern Information Retrieval Course\n",
        "# **50 Years of the Best-Selling Music Artists Lyrics Comparison**\n",
        "### Homework 2\n",
        "### Dr. Asgari\n",
        "### Parsa Mohammadian — 98102284\n",
        "Spring 2022\n",
        "\n",
        "---"
      ]
    },
    {
      "cell_type": "markdown",
      "metadata": {
        "id": "clJHGT4kxTiK"
      },
      "source": [
        "## Introduction\n",
        "The art of music play an important role in the human world. Besides the instrumental aspect, lyrics and content of a music are also important. In this project, I will explore and compare the lyrics of the best-selling music artists in a 50 years period (from 1969 to 2019). This list is taken from [Visual Capitalist](https://www.visualcapitalist.com/chart-toppers-50-years-of-the-best-selling-music-artists/) website. They have also visualized this data in an awesome [video](https://www.youtube.com/watch?v=a3w8I8boc_I). For the reference, I will use the image bellow to pick artist that has been top-selling for at least one consecutive year. Since the dataset is not provided, I have hardcoded the artists and their info in the code.\n",
        "\n",
        "![top-seller-chart](../resources/top-sellers-chart.jpg)\n",
        "\n",
        "---"
      ]
    },
    {
      "cell_type": "code",
      "execution_count": 3,
      "metadata": {},
      "outputs": [],
      "source": [
        "class Artist:\n",
        "    def __init__(self, name: str, top_seller_begin_year: int):\n",
        "        self.name: str = name\n",
        "        self.top_seller_begin_year: int = top_seller_begin_year\n",
        "        self.lyrics: pd.DataFrame = None\n",
        "\n",
        "artists = [\n",
        "    Artist(\"The Beatles\", 1969),\n",
        "    Artist(\"Elvis Presley\", 1973),\n",
        "    Artist(\"Elton John\", 1975),\n",
        "    Artist(\"Eagles\", 1977),\n",
        "    Artist(\"Michael Jackson\", 1980),\n",
        "    Artist(\"Madonna\", 1985),\n",
        "    Artist(\"Eminem\", 2001),\n",
        "    Artist(\"Rihanna\", 2008),\n",
        "    Artist(\"Drake\", 2013)\n",
        "]"
      ]
    },
    {
      "cell_type": "markdown",
      "metadata": {
        "id": "_hT2I1qByZFg"
      },
      "source": [
        "## Required Libraries\n",
        "\n",
        "---"
      ]
    },
    {
      "cell_type": "code",
      "execution_count": 18,
      "metadata": {
        "id": "BU5Yl04FyggQ"
      },
      "outputs": [
        {
          "name": "stdout",
          "output_type": "stream",
          "text": [
            "Requirement already satisfied: pandas in c:\\users\\parsa\\appdata\\local\\programs\\python\\python310\\lib\\site-packages (1.3.4)\n",
            "Requirement already satisfied: numpy>=1.21.0 in c:\\users\\parsa\\appdata\\local\\programs\\python\\python310\\lib\\site-packages (from pandas) (1.21.2)\n",
            "Requirement already satisfied: python-dateutil>=2.7.3 in c:\\users\\parsa\\appdata\\local\\programs\\python\\python310\\lib\\site-packages (from pandas) (2.8.2)\n",
            "Requirement already satisfied: pytz>=2017.3 in c:\\users\\parsa\\appdata\\local\\programs\\python\\python310\\lib\\site-packages (from pandas) (2021.3)\n",
            "Requirement already satisfied: six>=1.5 in c:\\users\\parsa\\appdata\\local\\programs\\python\\python310\\lib\\site-packages (from python-dateutil>=2.7.3->pandas) (1.16.0)\n",
            "Requirement already satisfied: tqdm in c:\\users\\parsa\\appdata\\local\\programs\\python\\python310\\lib\\site-packages (4.62.3)\n",
            "Requirement already satisfied: colorama in c:\\users\\parsa\\appdata\\local\\programs\\python\\python310\\lib\\site-packages (from tqdm) (0.4.4)\n",
            "Requirement already satisfied: nltk in c:\\users\\parsa\\appdata\\local\\programs\\python\\python310\\lib\\site-packages (3.7)\n",
            "Requirement already satisfied: joblib in c:\\users\\parsa\\appdata\\local\\programs\\python\\python310\\lib\\site-packages (from nltk) (1.1.0)\n",
            "Requirement already satisfied: tqdm in c:\\users\\parsa\\appdata\\local\\programs\\python\\python310\\lib\\site-packages (from nltk) (4.62.3)\n",
            "Requirement already satisfied: click in c:\\users\\parsa\\appdata\\local\\programs\\python\\python310\\lib\\site-packages (from nltk) (7.1.2)\n",
            "Requirement already satisfied: regex>=2021.8.3 in c:\\users\\parsa\\appdata\\local\\programs\\python\\python310\\lib\\site-packages (from nltk) (2022.3.15)\n",
            "Requirement already satisfied: colorama in c:\\users\\parsa\\appdata\\local\\programs\\python\\python310\\lib\\site-packages (from tqdm->nltk) (0.4.4)\n",
            "Collecting better-profanity\n",
            "  Downloading better_profanity-0.7.0-py3-none-any.whl (46 kB)\n",
            "     -------------------------------------- 46.1/46.1 KB 763.1 kB/s eta 0:00:00\n",
            "Installing collected packages: better-profanity\n",
            "Successfully installed better-profanity-0.7.0\n"
          ]
        }
      ],
      "source": [
        "\"\"\"\n",
        "Run this cell to install required python packages.\n",
        "Skip if you have already installed following packages.\n",
        "\"\"\"\n",
        "!pip install pandas\n",
        "!pip install tqdm\n",
        "!pip install nltk\n",
        "!pip install better-profanity"
      ]
    },
    {
      "cell_type": "code",
      "execution_count": 19,
      "metadata": {
        "id": "DkL_iCaOyv6b"
      },
      "outputs": [],
      "source": [
        "import re\n",
        "import string\n",
        "import pandas as pd\n",
        "import tqdm\n",
        "import nltk\n",
        "import better_profanity as bp"
      ]
    },
    {
      "cell_type": "code",
      "execution_count": 25,
      "metadata": {},
      "outputs": [
        {
          "name": "stderr",
          "output_type": "stream",
          "text": [
            "[nltk_data] Downloading package punkt to\n",
            "[nltk_data]     C:\\Users\\parsa\\AppData\\Roaming\\nltk_data...\n",
            "[nltk_data]   Package punkt is already up-to-date!\n",
            "[nltk_data] Downloading package stopwords to\n",
            "[nltk_data]     C:\\Users\\parsa\\AppData\\Roaming\\nltk_data...\n",
            "[nltk_data]   Package stopwords is already up-to-date!\n"
          ]
        },
        {
          "data": {
            "text/plain": [
              "True"
            ]
          },
          "execution_count": 25,
          "metadata": {},
          "output_type": "execute_result"
        }
      ],
      "source": [
        "nltk.download(\"punkt\")\n",
        "nltk.download(\"stopwords\")"
      ]
    },
    {
      "cell_type": "markdown",
      "metadata": {
        "id": "8hySArqrxjvR"
      },
      "source": [
        "## Dataset\n",
        "The dataset consists of multiple csv files, each file named as \"`<artist> Lyrics.csv`\" and contains all songs of the artist with their lyrics. I have written the script in [dataset/lyrics-script](../datasets/lyrics-script/genius.py) to generate the dataset. In order to get lyrics, I used [Genius](https://genius.com/) API. It worths mentioning that the order of the songs in every file is according to the number of views of the song in Genius website.\n",
        "\n",
        "---"
      ]
    },
    {
      "cell_type": "code",
      "execution_count": 17,
      "metadata": {
        "id": "ks4lM_1v0EOw"
      },
      "outputs": [
        {
          "name": "stderr",
          "output_type": "stream",
          "text": [
            "100%|██████████| 1/1 [00:00<00:00, 41.67it/s]"
          ]
        },
        {
          "name": "stdout",
          "output_type": "stream",
          "text": [
            "The Beatles with 1684 songs\n",
            "         song_name                                        song_lyrics\n",
            "idx                                                                  \n",
            "0        Let It Be  Let It Be Lyrics[Verse 1]\\nWhen I find myself ...\n",
            "1        Yesterday  Yesterday Lyrics[Verse 1]\\nYesterday\\nAll my t...\n",
            "2    Come Together  Come Together Lyrics[Intro]\\nShoot me\\nShoot m...\n"
          ]
        },
        {
          "name": "stderr",
          "output_type": "stream",
          "text": [
            "\n"
          ]
        }
      ],
      "source": [
        "\"\"\"\n",
        "Load data\n",
        "\"\"\"\n",
        "DATA_FILE_PREFIX = \"../datasets/\"\n",
        "DATA_FILE_SUFFIX = \" Lyrics.csv\"\n",
        "\n",
        "for artist in tqdm.tqdm(artists):\n",
        "    artist.lyrics = pd.read_csv(f\"{DATA_FILE_PREFIX}{artist.name}{DATA_FILE_SUFFIX}\")\n",
        "    artist.lyrics.rename(columns={\"Unnamed: 0\": \"idx\"}, inplace=True)\n",
        "    artist.lyrics.set_index(\"idx\", inplace=True)\n",
        "    print(f\"{artist.name} with {artist.lyrics.size} songs\", artist.lyrics.head(3), sep='\\n')"
      ]
    },
    {
      "cell_type": "markdown",
      "metadata": {},
      "source": [
        "## Tokenization\n",
        "\n",
        "---"
      ]
    },
    {
      "cell_type": "code",
      "execution_count": null,
      "metadata": {},
      "outputs": [],
      "source": []
    },
    {
      "cell_type": "markdown",
      "metadata": {},
      "source": [
        "## Normalization\n",
        "\n",
        "---"
      ]
    },
    {
      "cell_type": "code",
      "execution_count": 21,
      "metadata": {},
      "outputs": [],
      "source": [
        "def to_lower(tokens):\n",
        "    \"\"\"\n",
        "    Converts the tokens to lower case.\n",
        "    \"\"\"\n",
        "    return [token.lower() for token in tokens]\n",
        "\n",
        "\n",
        "def remove_lyrics_tags(tokens):\n",
        "    \"\"\"\n",
        "    Removes the tags added by Genius from the lyrics. \n",
        "    For example, [Chorus], [Verse 1], ...\n",
        "    \"\"\"\n",
        "    new_tokens = []\n",
        "    for i in range(len(tokens)):\n",
        "        if tokens[i] == '[' and i+2 < len(tokens) and tokens[i+2] == ']':\n",
        "            next(tokens, None)\n",
        "            next(tokens, None)\n",
        "            continue\n",
        "        new_tokens.append(tokens[i])\n",
        "    return new_tokens\n",
        "\n",
        "\n",
        "def remove_punctuation(tokens):\n",
        "    \"\"\"\n",
        "    Removes punctuation from the given tokens.\n",
        "    \"\"\"\n",
        "    return [token for token in tokens if token not in string.punctuation]\n",
        "\n",
        "\n",
        "def remove_stop_words(tokens):\n",
        "    \"\"\"\n",
        "    Removes stop words from the given tokens.\n",
        "    \"\"\"\n",
        "    remove_stop_words.stop_words = set(nltk.corpus.stopwords.words('english'))\n",
        "    return [token for token in tokens if token not in remove_stop_words.stop_words]\n",
        "\n",
        "\n",
        "def normalize_lyrics(tokens):\n",
        "    \"\"\"\n",
        "    Normalizes the tokens of the lyrics.\n",
        "    \"\"\"\n",
        "    return (tokens.to_lower()\n",
        "                  .remove_lyrics_tags()\n",
        "                  .remove_punctuation()\n",
        "                  .remove_stop_words())\n"
      ]
    }
  ],
  "metadata": {
    "colab": {
      "authorship_tag": "ABX9TyPOgAEDMIDhOp1gPYF4emtB",
      "collapsed_sections": [
        "8hySArqrxjvR"
      ],
      "include_colab_link": true,
      "name": "main.ipynb",
      "provenance": []
    },
    "kernelspec": {
      "display_name": "Python 3",
      "name": "python3"
    },
    "language_info": {
      "codemirror_mode": {
        "name": "ipython",
        "version": 3
      },
      "file_extension": ".py",
      "mimetype": "text/x-python",
      "name": "python",
      "nbconvert_exporter": "python",
      "pygments_lexer": "ipython3",
      "version": "3.10.4"
    }
  },
  "nbformat": 4,
  "nbformat_minor": 0
}
