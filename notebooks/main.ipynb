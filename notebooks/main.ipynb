{
  "cells": [
    {
      "cell_type": "markdown",
      "metadata": {
        "colab_type": "text",
        "id": "view-in-github"
      },
      "source": [
        "<a href=\"https://colab.research.google.com/github/Parsa2820/50-years-lyrics/blob/master/notebooks/main.ipynb\" target=\"_parent\"><img src=\"https://colab.research.google.com/assets/colab-badge.svg\" alt=\"Open In Colab\"/></a>"
      ]
    },
    {
      "cell_type": "markdown",
      "metadata": {
        "id": "uxzVzDeBuhnQ"
      },
      "source": [
        "### Sharif University of Technology\n",
        "Department of Computer Engineering\n",
        "\n",
        "---\n",
        "# Modern Information Retrieval Course\n",
        "# **50 Years of the Best-Selling Music Artists Lyrics Comparison**\n",
        "### Homework 2\n",
        "### Dr. Asgari\n",
        "### Parsa Mohammadian — 98102284\n",
        "Spring 2022\n",
        "\n",
        "---"
      ]
    },
    {
      "cell_type": "markdown",
      "metadata": {
        "id": "clJHGT4kxTiK"
      },
      "source": [
        "## Introduction\n",
        "The art of music play an important role in the human world. Besides the instrumental aspect, lyrics and content of a music are also important. In this project, I will explore and compare the lyrics of the best-selling music artists in a 50 years period (from 1969 to 2019). This list is taken from [Visual Capitalist](https://www.visualcapitalist.com/chart-toppers-50-years-of-the-best-selling-music-artists/) website. They have also visualized this data in an awesome [video](https://www.youtube.com/watch?v=a3w8I8boc_I). For the reference, I will use the image bellow to pick artist that has been top-selling for at least one consecutive year. Since the dataset is not provided, I have hardcoded the artists and their info in the code.\n",
        "\n",
        "![top-seller-chart](../resources/top-sellers-chart.jpg)\n",
        "\n",
        "---"
      ]
    },
    {
      "cell_type": "code",
      "execution_count": 1,
      "metadata": {},
      "outputs": [],
      "source": [
        "class Artist:\n",
        "    def __init__(self, name: str, top_seller_begin_year: int):\n",
        "        self.name: str = name\n",
        "        self.top_seller_begin_year: int = top_seller_begin_year\n",
        "        self.lyrics: pd.DataFrame = None\n",
        "\n",
        "artists = [\n",
        "    Artist(\"The Beatles\", 1969),\n",
        "    Artist(\"Elvis Presley\", 1973),\n",
        "    Artist(\"Elton John\", 1975),\n",
        "    Artist(\"Eagles\", 1977),\n",
        "    Artist(\"Michael Jackson\", 1980),\n",
        "    Artist(\"Madonna\", 1985),\n",
        "    Artist(\"Eminem\", 2001),\n",
        "    Artist(\"Rihanna\", 2008),\n",
        "    Artist(\"Drake\", 2013)\n",
        "]"
      ]
    },
    {
      "cell_type": "markdown",
      "metadata": {
        "id": "_hT2I1qByZFg"
      },
      "source": [
        "## Required Libraries\n",
        "\n",
        "---"
      ]
    },
    {
      "cell_type": "code",
      "execution_count": 2,
      "metadata": {
        "id": "BU5Yl04FyggQ"
      },
      "outputs": [
        {
          "name": "stdout",
          "output_type": "stream",
          "text": [
            "Collecting pandas\n",
            "  Downloading pandas-1.4.2-cp310-cp310-win_amd64.whl (10.6 MB)\n",
            "     ---------------------------------------- 10.6/10.6 MB 3.6 MB/s eta 0:00:00\n",
            "Requirement already satisfied: python-dateutil>=2.8.1 in c:\\users\\p.mohammadian\\appdata\\local\\packages\\pythonsoftwarefoundation.python.3.10_qbz5n2kfra8p0\\localcache\\local-packages\\python310\\site-packages (from pandas) (2.8.2)\n",
            "Collecting numpy>=1.21.0\n",
            "  Downloading numpy-1.22.3-cp310-cp310-win_amd64.whl (14.7 MB)\n",
            "     ---------------------------------------- 14.7/14.7 MB 2.3 MB/s eta 0:00:00\n",
            "Collecting pytz>=2020.1\n",
            "  Downloading pytz-2022.1-py2.py3-none-any.whl (503 kB)\n",
            "     -------------------------------------- 503.5/503.5 KB 2.3 MB/s eta 0:00:00\n",
            "Requirement already satisfied: six>=1.5 in c:\\users\\p.mohammadian\\appdata\\local\\packages\\pythonsoftwarefoundation.python.3.10_qbz5n2kfra8p0\\localcache\\local-packages\\python310\\site-packages (from python-dateutil>=2.8.1->pandas) (1.16.0)\n",
            "Installing collected packages: pytz, numpy, pandas\n",
            "Successfully installed numpy-1.22.3 pandas-1.4.2 pytz-2022.1\n"
          ]
        },
        {
          "name": "stderr",
          "output_type": "stream",
          "text": [
            "  WARNING: The script f2py.exe is installed in 'C:\\Users\\p.mohammadian\\AppData\\Local\\Packages\\PythonSoftwareFoundation.Python.3.10_qbz5n2kfra8p0\\LocalCache\\local-packages\\Python310\\Scripts' which is not on PATH.\n",
            "  Consider adding this directory to PATH or, if you prefer to suppress this warning, use --no-warn-script-location.\n"
          ]
        },
        {
          "name": "stdout",
          "output_type": "stream",
          "text": [
            "Collecting tqdm\n",
            "  Downloading tqdm-4.64.0-py2.py3-none-any.whl (78 kB)\n",
            "     -------------------------------------- 78.4/78.4 KB 396.6 kB/s eta 0:00:00\n",
            "Requirement already satisfied: colorama in c:\\users\\p.mohammadian\\appdata\\local\\packages\\pythonsoftwarefoundation.python.3.10_qbz5n2kfra8p0\\localcache\\local-packages\\python310\\site-packages (from tqdm) (0.4.4)\n",
            "Installing collected packages: tqdm\n",
            "Successfully installed tqdm-4.64.0\n"
          ]
        },
        {
          "name": "stderr",
          "output_type": "stream",
          "text": [
            "  WARNING: The script tqdm.exe is installed in 'C:\\Users\\p.mohammadian\\AppData\\Local\\Packages\\PythonSoftwareFoundation.Python.3.10_qbz5n2kfra8p0\\LocalCache\\local-packages\\Python310\\Scripts' which is not on PATH.\n",
            "  Consider adding this directory to PATH or, if you prefer to suppress this warning, use --no-warn-script-location.\n"
          ]
        },
        {
          "name": "stdout",
          "output_type": "stream",
          "text": [
            "Collecting nltk\n",
            "  Downloading nltk-3.7-py3-none-any.whl (1.5 MB)\n",
            "     ---------------------------------------- 1.5/1.5 MB 1.8 MB/s eta 0:00:00\n",
            "Collecting click\n",
            "  Downloading click-8.1.2-py3-none-any.whl (96 kB)\n",
            "     ---------------------------------------- 96.6/96.6 KB 2.8 MB/s eta 0:00:00\n",
            "Requirement already satisfied: tqdm in c:\\users\\p.mohammadian\\appdata\\local\\packages\\pythonsoftwarefoundation.python.3.10_qbz5n2kfra8p0\\localcache\\local-packages\\python310\\site-packages (from nltk) (4.64.0)\n",
            "Collecting joblib\n",
            "  Downloading joblib-1.1.0-py2.py3-none-any.whl (306 kB)\n",
            "     -------------------------------------- 307.0/307.0 KB 1.1 MB/s eta 0:00:00\n",
            "Collecting regex>=2021.8.3\n",
            "  Downloading regex-2022.3.15-cp310-cp310-win_amd64.whl (274 kB)\n",
            "     -------------------------------------- 274.4/274.4 KB 3.3 MB/s eta 0:00:00\n",
            "Requirement already satisfied: colorama in c:\\users\\p.mohammadian\\appdata\\local\\packages\\pythonsoftwarefoundation.python.3.10_qbz5n2kfra8p0\\localcache\\local-packages\\python310\\site-packages (from click->nltk) (0.4.4)\n",
            "Installing collected packages: regex, joblib, click, nltk\n",
            "Successfully installed click-8.1.2 joblib-1.1.0 nltk-3.7 regex-2022.3.15\n"
          ]
        },
        {
          "name": "stderr",
          "output_type": "stream",
          "text": [
            "  WARNING: The script nltk.exe is installed in 'C:\\Users\\p.mohammadian\\AppData\\Local\\Packages\\PythonSoftwareFoundation.Python.3.10_qbz5n2kfra8p0\\LocalCache\\local-packages\\Python310\\Scripts' which is not on PATH.\n",
            "  Consider adding this directory to PATH or, if you prefer to suppress this warning, use --no-warn-script-location.\n"
          ]
        },
        {
          "name": "stdout",
          "output_type": "stream",
          "text": [
            "Collecting better-profanity\n",
            "  Downloading better_profanity-0.7.0-py3-none-any.whl (46 kB)\n",
            "     -------------------------------------- 46.1/46.1 KB 254.4 kB/s eta 0:00:00\n",
            "Installing collected packages: better-profanity\n",
            "Successfully installed better-profanity-0.7.0\n"
          ]
        }
      ],
      "source": [
        "\"\"\"\n",
        "Run this cell to install required python packages.\n",
        "Skip if you have already installed following packages.\n",
        "\"\"\"\n",
        "!pip install pandas\n",
        "!pip install tqdm\n",
        "!pip install nltk\n",
        "!pip install better-profanity"
      ]
    },
    {
      "cell_type": "code",
      "execution_count": 34,
      "metadata": {
        "id": "DkL_iCaOyv6b"
      },
      "outputs": [],
      "source": [
        "import re\n",
        "import string\n",
        "import itertools\n",
        "import functools\n",
        "import pandas as pd\n",
        "import tqdm\n",
        "import nltk\n",
        "import better_profanity as bp"
      ]
    },
    {
      "cell_type": "code",
      "execution_count": 4,
      "metadata": {},
      "outputs": [
        {
          "name": "stderr",
          "output_type": "stream",
          "text": [
            "[nltk_data] Downloading package punkt to\n",
            "[nltk_data]     C:\\Users\\p.mohammadian\\AppData\\Roaming\\nltk_data...\n",
            "[nltk_data]   Unzipping tokenizers\\punkt.zip.\n",
            "[nltk_data] Downloading package stopwords to\n",
            "[nltk_data]     C:\\Users\\p.mohammadian\\AppData\\Roaming\\nltk_data...\n",
            "[nltk_data]   Unzipping corpora\\stopwords.zip.\n"
          ]
        },
        {
          "data": {
            "text/plain": [
              "True"
            ]
          },
          "execution_count": 4,
          "metadata": {},
          "output_type": "execute_result"
        }
      ],
      "source": [
        "pd.set_option('display.expand_frame_repr', False)\n",
        "nltk.download(\"punkt\")\n",
        "nltk.download(\"stopwords\")\n"
      ]
    },
    {
      "cell_type": "markdown",
      "metadata": {
        "id": "8hySArqrxjvR"
      },
      "source": [
        "## Dataset\n",
        "The dataset consists of multiple csv files, each file named as \"`<artist> Lyrics.csv`\" and contains all songs of the artist with their lyrics. I have written the script in [dataset/lyrics-script](../datasets/lyrics-script/genius.py) to generate the dataset. In order to get lyrics, I used [Genius](https://genius.com/) API. It worths mentioning that the order of the songs in every file is according to the number of views of the song in Genius website.\n",
        "\n",
        "---"
      ]
    },
    {
      "cell_type": "code",
      "execution_count": 23,
      "metadata": {
        "id": "ks4lM_1v0EOw"
      },
      "outputs": [
        {
          "name": "stderr",
          "output_type": "stream",
          "text": [
            "100%|██████████| 9/9 [00:00<00:00, 20.99it/s]"
          ]
        },
        {
          "name": "stdout",
          "output_type": "stream",
          "text": [
            "\n",
            "The Beatles with 1660 songs\n",
            "     song_name                                        song_lyrics\n",
            "idx                                                              \n",
            "0    Let It Be  Let It Be Lyrics[Verse 1]\\r\\nWhen I find mysel...\n",
            "\n",
            "Elvis Presley with 1622 songs\n",
            "                      song_name                                        song_lyrics\n",
            "idx                                                                               \n",
            "0    Can’t Help Falling in Love  Can’t Help Falling in Love Lyrics[Verse 1]\\r\\n...\n",
            "\n",
            "Elton John with 1204 songs\n",
            "     song_name                                        song_lyrics\n",
            "idx                                                              \n",
            "0    Your Song  Your Song Lyrics[Verse 1]\\r\\nIt's a little bit...\n",
            "\n",
            "Eagles with 270 songs\n",
            "            song_name                                        song_lyrics\n",
            "idx                                                                     \n",
            "0    Hotel California  Hotel California Lyrics[Verse 1]\\r\\nOn a dark ...\n",
            "\n",
            "Michael Jackson with 1384 songs\n",
            "       song_name                                        song_lyrics\n",
            "idx                                                                \n",
            "0    Billie Jean  Billie Jean Lyrics[Verse 1]\\r\\nShe was more li...\n",
            "\n",
            "Madonna with 2044 songs\n",
            "         song_name                                        song_lyrics\n",
            "idx                                                                  \n",
            "0    Like a Prayer  Like a Prayer Lyrics[Intro]\\r\\nLife is a myste...\n",
            "\n",
            "Eminem with 1016 songs\n",
            "    song_name                                        song_lyrics\n",
            "idx                                                             \n",
            "0     Rap God  Rap God Lyrics[Intro]\\r\\n\"Look, I was gonna go...\n",
            "\n",
            "Rihanna with 800 songs\n",
            "    song_name                                        song_lyrics\n",
            "idx                                                             \n",
            "0        Work  Work Lyrics[Chorus: Rihanna]\\r\\nWork, work, wo...\n",
            "\n",
            "Drake with 1012 songs\n",
            "      song_name                                        song_lyrics\n",
            "idx                                                               \n",
            "0    God’s Plan  God’s Plan Lyrics[Intro]\\r\\nAnd they wishin' a...\n"
          ]
        },
        {
          "name": "stderr",
          "output_type": "stream",
          "text": [
            "\n"
          ]
        }
      ],
      "source": [
        "\"\"\"\n",
        "Load data\n",
        "\"\"\"\n",
        "DATA_FILE_PREFIX = \"../datasets/\"\n",
        "DATA_FILE_SUFFIX = \" Lyrics.csv\"\n",
        "\n",
        "for artist in tqdm.tqdm(artists):\n",
        "    artist.lyrics = pd.read_csv(f\"{DATA_FILE_PREFIX}{artist.name}{DATA_FILE_SUFFIX}\")\n",
        "    artist.lyrics.rename(columns={\"Unnamed: 0\": \"idx\"}, inplace=True)\n",
        "    artist.lyrics.set_index(\"idx\", inplace=True)\n",
        "    artist.lyrics.dropna(inplace=True)\n",
        "\n",
        "for artist in artists:\n",
        "    print(f\"\\n{artist.name} with {artist.lyrics.size} songs\", artist.lyrics.head(1), sep='\\n')"
      ]
    },
    {
      "cell_type": "markdown",
      "metadata": {},
      "source": [
        "## Tokenization\n",
        "\n",
        "---"
      ]
    },
    {
      "cell_type": "code",
      "execution_count": 47,
      "metadata": {},
      "outputs": [],
      "source": [
        "for artist in artists:\n",
        "    artist.lyrics[\"song_lyrics_tokenized\"] = artist.lyrics[\"song_lyrics\"].apply(lambda x: nltk.word_tokenize(x))"
      ]
    },
    {
      "cell_type": "markdown",
      "metadata": {},
      "source": [
        "## Normalization\n",
        "\n",
        "---"
      ]
    },
    {
      "cell_type": "code",
      "execution_count": 65,
      "metadata": {},
      "outputs": [],
      "source": [
        "def to_lower(tokens):\n",
        "    \"\"\"\n",
        "    Converts the tokens to lower case.\n",
        "    \"\"\"\n",
        "    return [token.lower() for token in tokens]\n",
        "\n",
        "\n",
        "def remove_lyrics_tags(tokens):\n",
        "    \"\"\"\n",
        "    Removes the tags added by Genius from the lyrics. \n",
        "    For example, [Chorus], [Verse 1], ...\n",
        "    \"\"\"\n",
        "    new_tokens = []\n",
        "    tag = False\n",
        "    for i in range(len(tokens)):\n",
        "        if tokens[i] == '[':\n",
        "            tag = True\n",
        "        elif tokens[i] == ']':\n",
        "            tag = False\n",
        "        elif not tag:\n",
        "            new_tokens.append(tokens[i])\n",
        "    return new_tokens\n",
        "\n",
        "\n",
        "def remove_song_name(tokens):\n",
        "    \"\"\"\n",
        "    Removes the song name from the tokens.\n",
        "    \"\"\"\n",
        "    keyword = \"lyrics\"\n",
        "    if keyword in tokens:\n",
        "        return tokens[tokens.index(keyword) + 1:]\n",
        "    return tokens[:]\n",
        "\n",
        "\n",
        "def remove_punctuation(tokens):\n",
        "    \"\"\"\n",
        "    Removes punctuation from the given tokens.\n",
        "    \"\"\"\n",
        "    return [token for token in tokens if token not in string.punctuation]\n",
        "\n",
        "\n",
        "def remove_stop_words(tokens):\n",
        "    \"\"\"\n",
        "    Removes stop words from the given tokens.\n",
        "    \"\"\"\n",
        "    remove_stop_words.stop_words = set(nltk.corpus.stopwords.words('english'))\n",
        "    return [token for token in tokens if token not in remove_stop_words.stop_words]\n",
        "\n",
        "\n",
        "def normalize_lyrics(tokens):\n",
        "    \"\"\"\n",
        "    Normalizes the tokens of the lyrics.\n",
        "    \"\"\"\n",
        "    normalization_functions = [to_lower, remove_lyrics_tags, remove_song_name, remove_punctuation, remove_stop_words]\n",
        "    return functools.reduce(lambda x, f: f(x), normalization_functions, tokens)\n"
      ]
    },
    {
      "cell_type": "code",
      "execution_count": 66,
      "metadata": {},
      "outputs": [],
      "source": [
        "for artist in artists:\n",
        "    artist.lyrics[\"song_lyrics_normalized\"] = artist.lyrics[\"song_lyrics_tokenized\"].apply(normalize_lyrics)"
      ]
    }
  ],
  "metadata": {
    "colab": {
      "authorship_tag": "ABX9TyPOgAEDMIDhOp1gPYF4emtB",
      "collapsed_sections": [
        "8hySArqrxjvR"
      ],
      "include_colab_link": true,
      "name": "main.ipynb",
      "provenance": []
    },
    "kernelspec": {
      "display_name": "Python 3",
      "name": "python3"
    },
    "language_info": {
      "codemirror_mode": {
        "name": "ipython",
        "version": 3
      },
      "file_extension": ".py",
      "mimetype": "text/x-python",
      "name": "python",
      "nbconvert_exporter": "python",
      "pygments_lexer": "ipython3",
      "version": "3.10.4"
    }
  },
  "nbformat": 4,
  "nbformat_minor": 0
}
