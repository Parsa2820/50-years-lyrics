{
  "cells": [
    {
      "cell_type": "markdown",
      "metadata": {
        "colab_type": "text",
        "id": "view-in-github"
      },
      "source": [
        "<a href=\"https://colab.research.google.com/github/Parsa2820/50-years-lyrics/blob/master/notebooks/main.ipynb\" target=\"_parent\"><img src=\"https://colab.research.google.com/assets/colab-badge.svg\" alt=\"Open In Colab\"/></a>"
      ]
    },
    {
      "cell_type": "markdown",
      "metadata": {
        "id": "uxzVzDeBuhnQ"
      },
      "source": [
        "### Sharif University of Technology\n",
        "Department of Computer Engineering\n",
        "\n",
        "---\n",
        "# Modern Information Retrieval Course\n",
        "# **50 Years of the Best-Selling Music Artists Lyrics Comparison**\n",
        "### Homework 2\n",
        "### Dr. Asgari\n",
        "### Parsa Mohammadian — 98102284\n",
        "Spring 2022\n",
        "\n",
        "---"
      ]
    },
    {
      "cell_type": "markdown",
      "metadata": {
        "id": "clJHGT4kxTiK"
      },
      "source": [
        "## Introduction\n",
        "The art of music play an important role in the human world. Besides the instrumental aspect, lyrics and content of a music are also important. In this project, I will explore and compare the lyrics of the best-selling music artists in a 50 years period (from 1969 to 2019). This list is taken from [Visual Capitalist](https://www.visualcapitalist.com/chart-toppers-50-years-of-the-best-selling-music-artists/) website. They have also visualized this data in an awesome [video](https://www.youtube.com/watch?v=a3w8I8boc_I). For the reference, I will use the image bellow to pick artist that has been top-selling for at least one consecutive year. Since the dataset is not provided, I have hardcoded the artists and their info in the code.\n",
        "\n",
        "> Because of the dataset size limit of this project, I have only used some of the artists with introduced conditions. So I commented out the other artist in the code. The 4 remaining artist datasets size is 4.89 MB.\n",
        "\n",
        "![top-seller-chart](../resources/top-sellers-chart.jpg)\n",
        "\n",
        "---"
      ]
    },
    {
      "cell_type": "code",
      "execution_count": 67,
      "metadata": {},
      "outputs": [],
      "source": [
        "class Artist:\n",
        "    def __init__(self, name: str, top_seller_begin_year: int):\n",
        "        self.name: str = name\n",
        "        self.top_seller_begin_year: int = top_seller_begin_year\n",
        "        self.lyrics: pd.DataFrame = None\n",
        "        self.normalized_words_count: int = 0\n",
        "        self.profanity_count: int = 0\n",
        "        self.vocab = set()\n",
        "\n",
        "    def __str__(self):\n",
        "        return f'{self.name} ({self.top_seller_begin_year})'\n",
        "\n",
        "\n",
        "artists = [\n",
        "    Artist(\"The Beatles\", 1969),\n",
        "    # Artist(\"Elvis Presley\", 1973),\n",
        "    Artist(\"Elton John\", 1975),\n",
        "    # Artist(\"Eagles\", 1977),\n",
        "    Artist(\"Michael Jackson\", 1980),\n",
        "    # Artist(\"Madonna\", 1985),\n",
        "    Artist(\"Eminem\", 2001),\n",
        "    # Artist(\"Rihanna\", 2008),\n",
        "    # Artist(\"Drake\", 2013)\n",
        "]\n"
      ]
    },
    {
      "cell_type": "markdown",
      "metadata": {
        "id": "_hT2I1qByZFg"
      },
      "source": [
        "## Required Libraries\n",
        "\n",
        "---"
      ]
    },
    {
      "cell_type": "code",
      "execution_count": 68,
      "metadata": {
        "id": "BU5Yl04FyggQ"
      },
      "outputs": [
        {
          "name": "stdout",
          "output_type": "stream",
          "text": [
            "Requirement already satisfied: pandas in c:\\users\\parsa\\appdata\\local\\programs\\python\\python310\\lib\\site-packages (1.3.4)\n",
            "Requirement already satisfied: numpy>=1.21.0 in c:\\users\\parsa\\appdata\\local\\programs\\python\\python310\\lib\\site-packages (from pandas) (1.21.2)\n",
            "Requirement already satisfied: python-dateutil>=2.7.3 in c:\\users\\parsa\\appdata\\local\\programs\\python\\python310\\lib\\site-packages (from pandas) (2.8.2)\n",
            "Requirement already satisfied: pytz>=2017.3 in c:\\users\\parsa\\appdata\\local\\programs\\python\\python310\\lib\\site-packages (from pandas) (2021.3)\n",
            "Requirement already satisfied: six>=1.5 in c:\\users\\parsa\\appdata\\local\\programs\\python\\python310\\lib\\site-packages (from python-dateutil>=2.7.3->pandas) (1.16.0)\n",
            "Requirement already satisfied: tqdm in c:\\users\\parsa\\appdata\\local\\programs\\python\\python310\\lib\\site-packages (4.62.3)\n",
            "Requirement already satisfied: colorama in c:\\users\\parsa\\appdata\\local\\programs\\python\\python310\\lib\\site-packages (from tqdm) (0.4.4)\n",
            "Requirement already satisfied: nltk in c:\\users\\parsa\\appdata\\local\\programs\\python\\python310\\lib\\site-packages (3.7)\n",
            "Requirement already satisfied: click in c:\\users\\parsa\\appdata\\local\\programs\\python\\python310\\lib\\site-packages (from nltk) (7.1.2)\n",
            "Requirement already satisfied: joblib in c:\\users\\parsa\\appdata\\local\\programs\\python\\python310\\lib\\site-packages (from nltk) (1.1.0)\n",
            "Requirement already satisfied: regex>=2021.8.3 in c:\\users\\parsa\\appdata\\local\\programs\\python\\python310\\lib\\site-packages (from nltk) (2022.3.15)\n",
            "Requirement already satisfied: tqdm in c:\\users\\parsa\\appdata\\local\\programs\\python\\python310\\lib\\site-packages (from nltk) (4.62.3)\n",
            "Requirement already satisfied: colorama in c:\\users\\parsa\\appdata\\local\\programs\\python\\python310\\lib\\site-packages (from tqdm->nltk) (0.4.4)\n",
            "Requirement already satisfied: better-profanity in c:\\users\\parsa\\appdata\\local\\programs\\python\\python310\\lib\\site-packages (0.7.0)\n"
          ]
        }
      ],
      "source": [
        "\"\"\"\n",
        "Run this cell to install required python packages.\n",
        "Skip if you have already installed following packages.\n",
        "\"\"\"\n",
        "!pip install pandas\n",
        "!pip install tqdm\n",
        "!pip install nltk\n",
        "!pip install better-profanity\n",
        "!pip install matplotlib\n"
      ]
    },
    {
      "cell_type": "code",
      "execution_count": 69,
      "metadata": {
        "id": "DkL_iCaOyv6b"
      },
      "outputs": [],
      "source": [
        "import re\n",
        "import string\n",
        "import itertools\n",
        "import functools\n",
        "import pandas as pd\n",
        "import tqdm\n",
        "import nltk\n",
        "import better_profanity as bp\n",
        "import matplotlib.pyplot as plt\n"
      ]
    },
    {
      "cell_type": "code",
      "execution_count": 70,
      "metadata": {},
      "outputs": [
        {
          "name": "stderr",
          "output_type": "stream",
          "text": [
            "[nltk_data] Downloading package punkt to\n",
            "[nltk_data]     C:\\Users\\parsa\\AppData\\Roaming\\nltk_data...\n",
            "[nltk_data]   Package punkt is already up-to-date!\n",
            "[nltk_data] Downloading package stopwords to\n",
            "[nltk_data]     C:\\Users\\parsa\\AppData\\Roaming\\nltk_data...\n",
            "[nltk_data]   Package stopwords is already up-to-date!\n",
            "[nltk_data] Downloading package wordnet to\n",
            "[nltk_data]     C:\\Users\\parsa\\AppData\\Roaming\\nltk_data...\n",
            "[nltk_data]   Package wordnet is already up-to-date!\n",
            "[nltk_data] Downloading package omw-1.4 to\n",
            "[nltk_data]     C:\\Users\\parsa\\AppData\\Roaming\\nltk_data...\n",
            "[nltk_data]   Package omw-1.4 is already up-to-date!\n"
          ]
        },
        {
          "data": {
            "text/plain": [
              "True"
            ]
          },
          "execution_count": 70,
          "metadata": {},
          "output_type": "execute_result"
        }
      ],
      "source": [
        "pd.set_option('display.expand_frame_repr', False)\n",
        "pd.set_option('display.max_rows', None)\n",
        "nltk.download(\"punkt\")\n",
        "nltk.download(\"stopwords\")\n",
        "nltk.download('wordnet')\n",
        "nltk.download('omw-1.4')\n"
      ]
    },
    {
      "cell_type": "markdown",
      "metadata": {
        "id": "8hySArqrxjvR"
      },
      "source": [
        "## Dataset\n",
        "The dataset consists of multiple csv files, each file named as \"`<artist> Lyrics.csv`\" and contains all songs of the artist with their lyrics. I have written the script in [dataset/lyrics-script](../datasets/lyrics-script/genius.py) to generate the dataset. In order to get lyrics, I used [Genius](https://genius.com/) API. It worths mentioning that the order of the songs in every file is according to the number of views of the song in Genius website.\n",
        "\n",
        "---"
      ]
    },
    {
      "cell_type": "code",
      "execution_count": 71,
      "metadata": {
        "id": "ks4lM_1v0EOw"
      },
      "outputs": [
        {
          "name": "stderr",
          "output_type": "stream",
          "text": [
            "100%|██████████| 4/4 [00:00<00:00, 42.53it/s]"
          ]
        },
        {
          "name": "stdout",
          "output_type": "stream",
          "text": [
            "\n",
            "The Beatles with 1660 songs\n",
            "     song_name                                        song_lyrics\n",
            "idx                                                              \n",
            "0    Let It Be  Let It Be Lyrics[Verse 1]\\nWhen I find myself ...\n",
            "\n",
            "Elton John with 1204 songs\n",
            "     song_name                                        song_lyrics\n",
            "idx                                                              \n",
            "0    Your Song  Your Song Lyrics[Verse 1]\\nIt's a little bit f...\n",
            "\n",
            "Michael Jackson with 1384 songs\n",
            "       song_name                                        song_lyrics\n",
            "idx                                                                \n",
            "0    Billie Jean  Billie Jean Lyrics[Verse 1]\\nShe was more like...\n",
            "\n",
            "Eminem with 1016 songs\n",
            "    song_name                                        song_lyrics\n",
            "idx                                                             \n",
            "0     Rap God  Rap God Lyrics[Intro]\\n\"Look, I was gonna go e...\n"
          ]
        },
        {
          "name": "stderr",
          "output_type": "stream",
          "text": [
            "\n"
          ]
        }
      ],
      "source": [
        "\"\"\"\n",
        "Load data\n",
        "\"\"\"\n",
        "DATA_FILE_PREFIX = \"../datasets/\"\n",
        "DATA_FILE_SUFFIX = \" Lyrics.csv\"\n",
        "\n",
        "for artist in tqdm.tqdm(artists):\n",
        "    artist.lyrics = pd.read_csv(\n",
        "        f\"{DATA_FILE_PREFIX}{artist.name}{DATA_FILE_SUFFIX}\")\n",
        "    artist.lyrics.rename(columns={\"Unnamed: 0\": \"idx\"}, inplace=True)\n",
        "    artist.lyrics.set_index(\"idx\", inplace=True)\n",
        "    artist.lyrics.dropna(inplace=True)\n",
        "\n",
        "for artist in artists:\n",
        "    print(f\"\\n{artist.name} with {artist.lyrics.size} songs\",\n",
        "          artist.lyrics.head(1), sep='\\n')\n"
      ]
    },
    {
      "cell_type": "markdown",
      "metadata": {},
      "source": [
        "## Tokenization\n",
        "\n",
        "---"
      ]
    },
    {
      "cell_type": "code",
      "execution_count": 72,
      "metadata": {},
      "outputs": [],
      "source": [
        "for artist in artists:\n",
        "    artist.lyrics[\"song_lyrics_tokenized\"] = artist.lyrics[\"song_lyrics\"].apply(\n",
        "        lambda x: nltk.word_tokenize(x))\n"
      ]
    },
    {
      "cell_type": "markdown",
      "metadata": {},
      "source": [
        "## Normalization\n",
        "\n",
        "---"
      ]
    },
    {
      "cell_type": "code",
      "execution_count": 73,
      "metadata": {},
      "outputs": [],
      "source": [
        "def to_lower(tokens):\n",
        "    \"\"\"\n",
        "    Converts the tokens to lower case.\n",
        "    \"\"\"\n",
        "    return [token.lower() for token in tokens]\n",
        "\n",
        "\n",
        "def remove_lyrics_tags(tokens):\n",
        "    \"\"\"\n",
        "    Removes the tags added by Genius from the lyrics. \n",
        "    For example, [Chorus], [Verse 1], ...\n",
        "    \"\"\"\n",
        "    new_tokens = []\n",
        "    tag = False\n",
        "    for i in range(len(tokens)):\n",
        "        if tokens[i] == '[':\n",
        "            tag = True\n",
        "        elif tokens[i] == ']':\n",
        "            tag = False\n",
        "        elif not tag:\n",
        "            new_tokens.append(tokens[i])\n",
        "    return new_tokens\n",
        "\n",
        "\n",
        "def remove_song_name(tokens):\n",
        "    \"\"\"\n",
        "    Removes the song name from the tokens.\n",
        "    \"\"\"\n",
        "    keyword = \"lyrics\"\n",
        "    if keyword in tokens:\n",
        "        return tokens[tokens.index(keyword) + 1:]\n",
        "    return tokens[:]\n",
        "\n",
        "\n",
        "def contains_any_of(token, chars):\n",
        "    \"\"\"\n",
        "    Returns true if the token contains any of the characters in the given list.\n",
        "    \"\"\"\n",
        "    return any(char in token for char in chars)\n",
        "\n",
        "\n",
        "def remove_punctuation(tokens):\n",
        "    \"\"\"\n",
        "    Removes punctuation from the given tokens.\n",
        "    \"\"\"\n",
        "    return [token for token in tokens if not contains_any_of(token, string.punctuation+\"’‘•\")]\n",
        "\n",
        "\n",
        "def remove_music_characters(tokens):\n",
        "    \"\"\"\n",
        "    Removes ♪ characters from the given tokens.\n",
        "    \"\"\"\n",
        "    return [token for token in tokens if not '♪' in token]\n",
        "\n",
        "\n",
        "def remove_stop_words(tokens):\n",
        "    \"\"\"\n",
        "    Removes stop words from the given tokens.\n",
        "    \"\"\"\n",
        "    remove_stop_words.stop_words = set(nltk.corpus.stopwords.words('english'))\n",
        "    with open(\"../resources/lyrics-stop-words\", \"r\") as f:\n",
        "        for line in f:\n",
        "            remove_stop_words.stop_words.add(line.strip())\n",
        "\n",
        "    return [token for token in tokens if token not in remove_stop_words.stop_words]\n",
        "\n",
        "\n",
        "def normalize_lyrics(tokens):\n",
        "    \"\"\"\n",
        "    Normalizes the tokens of the lyrics.\n",
        "    \"\"\"\n",
        "    normalization_functions = [to_lower, remove_lyrics_tags, remove_music_characters,\n",
        "                               remove_song_name, remove_punctuation, remove_stop_words]\n",
        "    return functools.reduce(lambda x, f: f(x), normalization_functions, tokens)\n"
      ]
    },
    {
      "cell_type": "code",
      "execution_count": 74,
      "metadata": {},
      "outputs": [],
      "source": [
        "for artist in artists:\n",
        "    artist.lyrics[\"song_lyrics_normalized\"] = artist.lyrics[\"song_lyrics_tokenized\"].apply(\n",
        "        normalize_lyrics)\n"
      ]
    },
    {
      "cell_type": "markdown",
      "metadata": {},
      "source": [
        "## Stemming and Lemmatization\n",
        "\n",
        "Here I have used Porter2 stemming algorithm to stem the words in the lyrics. The reason for preferring stemming over lemmatization is that it is more suitable for lyrics. We can see tons of examples in the lyrics which used ing form of the verb like \"talkin\" instead of \"talking\". In such a situation, the stemmer will remove suffix and leave the root word but lemmatization will not.\n",
        "\n",
        "---"
      ]
    },
    {
      "cell_type": "code",
      "execution_count": 75,
      "metadata": {},
      "outputs": [],
      "source": [
        "stemmer = nltk.stem.SnowballStemmer('english')\n",
        "\n",
        "for artist in artists:\n",
        "    artist.lyrics[\"song_lyrics_stemmed\"] = (artist.lyrics[\"song_lyrics_normalized\"]\n",
        "                                                     .apply(lambda x: [stemmer.stem(t) for t in x]))\n"
      ]
    },
    {
      "cell_type": "markdown",
      "metadata": {},
      "source": [
        "## Frequency Analysis and Find Stop Words\n",
        "\n",
        "Although removing stop words was used in th normalization process, there are some extra worthless words in lyrics that we can determine by frequency analysis. So after the first frequency analysis, I gathered some other stop words in \"`resources/lyrics-stop-words`\" file and modified the normalization process to remove them.\n",
        "\n",
        "> Keep in mind that tokens are stemmed, so it is possible to see misspelled words in the frequency analysis result.\n",
        "\n",
        "---"
      ]
    },
    {
      "cell_type": "code",
      "execution_count": 76,
      "metadata": {},
      "outputs": [],
      "source": [
        "for artist in artists:\n",
        "    all_lyrics = itertools.chain(*artist.lyrics[\"song_lyrics_stemmed\"])\n",
        "    artist.freq_dist = nltk.FreqDist(all_lyrics)\n"
      ]
    },
    {
      "cell_type": "code",
      "execution_count": 77,
      "metadata": {},
      "outputs": [
        {
          "data": {
            "text/html": [
              "<div>\n",
              "<style scoped>\n",
              "    .dataframe tbody tr th:only-of-type {\n",
              "        vertical-align: middle;\n",
              "    }\n",
              "\n",
              "    .dataframe tbody tr th {\n",
              "        vertical-align: top;\n",
              "    }\n",
              "\n",
              "    .dataframe thead th {\n",
              "        text-align: right;\n",
              "    }\n",
              "</style>\n",
              "<table border=\"1\" class=\"dataframe\">\n",
              "  <thead>\n",
              "    <tr style=\"text-align: right;\">\n",
              "      <th></th>\n",
              "      <th>The Beatles</th>\n",
              "      <th>Elton John</th>\n",
              "      <th>Michael Jackson</th>\n",
              "      <th>Eminem</th>\n",
              "    </tr>\n",
              "  </thead>\n",
              "  <tbody>\n",
              "    <tr>\n",
              "      <th>0</th>\n",
              "      <td>(love, 1856)</td>\n",
              "      <td>(love, 960)</td>\n",
              "      <td>(love, 2928)</td>\n",
              "      <td>(like, 3070)</td>\n",
              "    </tr>\n",
              "    <tr>\n",
              "      <th>1</th>\n",
              "      <td>(know, 1587)</td>\n",
              "      <td>(like, 776)</td>\n",
              "      <td>(realli, 2380)</td>\n",
              "      <td>(get, 2242)</td>\n",
              "    </tr>\n",
              "    <tr>\n",
              "      <th>2</th>\n",
              "      <td>(get, 1119)</td>\n",
              "      <td>(know, 548)</td>\n",
              "      <td>(got, 1729)</td>\n",
              "      <td>(got, 1682)</td>\n",
              "    </tr>\n",
              "    <tr>\n",
              "      <th>3</th>\n",
              "      <td>(go, 1063)</td>\n",
              "      <td>(go, 547)</td>\n",
              "      <td>(babi, 1701)</td>\n",
              "      <td>(****, 1458)</td>\n",
              "    </tr>\n",
              "    <tr>\n",
              "      <th>4</th>\n",
              "      <td>(come, 954)</td>\n",
              "      <td>(time, 493)</td>\n",
              "      <td>(know, 1653)</td>\n",
              "      <td>(****, 1355)</td>\n",
              "    </tr>\n",
              "    <tr>\n",
              "      <th>5</th>\n",
              "      <td>(back, 888)</td>\n",
              "      <td>(never, 492)</td>\n",
              "      <td>(get, 1613)</td>\n",
              "      <td>(know, 1310)</td>\n",
              "    </tr>\n",
              "    <tr>\n",
              "      <th>6</th>\n",
              "      <td>(got, 877)</td>\n",
              "      <td>(got, 457)</td>\n",
              "      <td>(time, 1592)</td>\n",
              "      <td>(back, 1281)</td>\n",
              "    </tr>\n",
              "    <tr>\n",
              "      <th>7</th>\n",
              "      <td>(let, 851)</td>\n",
              "      <td>(get, 437)</td>\n",
              "      <td>(one, 1391)</td>\n",
              "      <td>(go, 1220)</td>\n",
              "    </tr>\n",
              "    <tr>\n",
              "      <th>8</th>\n",
              "      <td>(babi, 837)</td>\n",
              "      <td>(one, 404)</td>\n",
              "      <td>(bad, 1341)</td>\n",
              "      <td>(one, 1004)</td>\n",
              "    </tr>\n",
              "    <tr>\n",
              "      <th>9</th>\n",
              "      <td>(well, 709)</td>\n",
              "      <td>(see, 404)</td>\n",
              "      <td>(want, 1340)</td>\n",
              "      <td>(say, 900)</td>\n",
              "    </tr>\n",
              "    <tr>\n",
              "      <th>10</th>\n",
              "      <td>(want, 691)</td>\n",
              "      <td>(back, 383)</td>\n",
              "      <td>(stop, 1272)</td>\n",
              "      <td>(see, 891)</td>\n",
              "    </tr>\n",
              "    <tr>\n",
              "      <th>11</th>\n",
              "      <td>(say, 668)</td>\n",
              "      <td>(come, 380)</td>\n",
              "      <td>(girl, 1249)</td>\n",
              "      <td>(****, 858)</td>\n",
              "    </tr>\n",
              "    <tr>\n",
              "      <th>12</th>\n",
              "      <td>(like, 631)</td>\n",
              "      <td>(say, 373)</td>\n",
              "      <td>(give, 1192)</td>\n",
              "      <td>(come, 839)</td>\n",
              "    </tr>\n",
              "    <tr>\n",
              "      <th>13</th>\n",
              "      <td>(one, 619)</td>\n",
              "      <td>(take, 358)</td>\n",
              "      <td>(make, 1188)</td>\n",
              "      <td>(never, 808)</td>\n",
              "    </tr>\n",
              "    <tr>\n",
              "      <th>14</th>\n",
              "      <td>(see, 613)</td>\n",
              "      <td>(man, 347)</td>\n",
              "      <td>(keep, 983)</td>\n",
              "      <td>(want, 765)</td>\n",
              "    </tr>\n",
              "    <tr>\n",
              "      <th>15</th>\n",
              "      <td>(take, 550)</td>\n",
              "      <td>(look, 327)</td>\n",
              "      <td>(say, 896)</td>\n",
              "      <td>(make, 754)</td>\n",
              "    </tr>\n",
              "    <tr>\n",
              "      <th>16</th>\n",
              "      <td>(girl, 530)</td>\n",
              "      <td>(want, 323)</td>\n",
              "      <td>(like, 857)</td>\n",
              "      <td>(time, 744)</td>\n",
              "    </tr>\n",
              "    <tr>\n",
              "      <th>17</th>\n",
              "      <td>(make, 518)</td>\n",
              "      <td>(life, 298)</td>\n",
              "      <td>(hold, 845)</td>\n",
              "      <td>(let, 719)</td>\n",
              "    </tr>\n",
              "    <tr>\n",
              "      <th>18</th>\n",
              "      <td>(hey, 494)</td>\n",
              "      <td>(way, 297)</td>\n",
              "      <td>(feel, 834)</td>\n",
              "      <td>(man, 710)</td>\n",
              "    </tr>\n",
              "    <tr>\n",
              "      <th>19</th>\n",
              "      <td>(time, 480)</td>\n",
              "      <td>(could, 291)</td>\n",
              "      <td>(around, 830)</td>\n",
              "      <td>(shadi, 686)</td>\n",
              "    </tr>\n",
              "  </tbody>\n",
              "</table>\n",
              "</div>"
            ],
            "text/plain": [
              "     The Beatles    Elton John Michael Jackson        Eminem\n",
              "0   (love, 1856)   (love, 960)    (love, 2928)  (like, 3070)\n",
              "1   (know, 1587)   (like, 776)  (realli, 2380)   (get, 2242)\n",
              "2    (get, 1119)   (know, 548)     (got, 1729)   (got, 1682)\n",
              "3     (go, 1063)     (go, 547)    (babi, 1701)  (****, 1458)\n",
              "4    (come, 954)   (time, 493)    (know, 1653)  (****, 1355)\n",
              "5    (back, 888)  (never, 492)     (get, 1613)  (know, 1310)\n",
              "6     (got, 877)    (got, 457)    (time, 1592)  (back, 1281)\n",
              "7     (let, 851)    (get, 437)     (one, 1391)    (go, 1220)\n",
              "8    (babi, 837)    (one, 404)     (bad, 1341)   (one, 1004)\n",
              "9    (well, 709)    (see, 404)    (want, 1340)    (say, 900)\n",
              "10   (want, 691)   (back, 383)    (stop, 1272)    (see, 891)\n",
              "11    (say, 668)   (come, 380)    (girl, 1249)   (****, 858)\n",
              "12   (like, 631)    (say, 373)    (give, 1192)   (come, 839)\n",
              "13    (one, 619)   (take, 358)    (make, 1188)  (never, 808)\n",
              "14    (see, 613)    (man, 347)     (keep, 983)   (want, 765)\n",
              "15   (take, 550)   (look, 327)      (say, 896)   (make, 754)\n",
              "16   (girl, 530)   (want, 323)     (like, 857)   (time, 744)\n",
              "17   (make, 518)   (life, 298)     (hold, 845)    (let, 719)\n",
              "18    (hey, 494)    (way, 297)     (feel, 834)    (man, 710)\n",
              "19   (time, 480)  (could, 291)   (around, 830)  (shadi, 686)"
            ]
          },
          "execution_count": 77,
          "metadata": {},
          "output_type": "execute_result"
        }
      ],
      "source": [
        "freq_dist_dic = {}\n",
        "\n",
        "for artist in artists:\n",
        "    freq_dist = artist.freq_dist.most_common(20)\n",
        "    freq_dist_profanity_filtered = []\n",
        "    for word, count in freq_dist:\n",
        "        freq_dist_profanity_filtered.append((bp.profanity.censor(word), count))\n",
        "    freq_dist_dic[artist.name] = freq_dist_profanity_filtered\n",
        "\n",
        "freq_dist_df = pd.DataFrame(freq_dist_dic)\n",
        "freq_dist_df\n"
      ]
    },
    {
      "cell_type": "markdown",
      "metadata": {},
      "source": [
        "## Profanity and Vocabulary  Analysis \n",
        "\n",
        "First I provide number (percent) of profanity words for each artist. Then I count each artists unique used words and by that I can see the vocabulary size of each artist.\n",
        "\n",
        "---"
      ]
    },
    {
      "cell_type": "code",
      "execution_count": 101,
      "metadata": {},
      "outputs": [],
      "source": [
        "for artist in artists:\n",
        "    def count(tokens):\n",
        "        artist.normalized_words_count += len(tokens)\n",
        "        artist.vocab.update(tokens)\n",
        "        for token in tokens:\n",
        "            if bp.profanity.contains_profanity(token):\n",
        "                artist.profanity_count += 1\n",
        "    artist.lyrics[\"song_lyrics_stemmed\"].apply(count)\n"
      ]
    },
    {
      "cell_type": "code",
      "execution_count": 105,
      "metadata": {},
      "outputs": [
        {
          "data": {
            "image/png": "[encoded data removed]",
            "text/plain": [
              "<Figure size 2160x360 with 2 Axes>"
            ]
          },
          "metadata": {
            "needs_background": "light"
          },
          "output_type": "display_data"
        }
      ],
      "source": [
        "fig, axs = plt.subplots(1, 2, figsize=(30, 5))\n",
        "axs[0].set_title(\"Vocabulary Diversity\")\n",
        "axs[0].set_xlabel(\"Artists\")\n",
        "axs[0].set_ylabel(\"Number of Unique Words\")\n",
        "axs[0].bar(range(len(artists)), [len(artist.vocab) for artist in artists])\n",
        "axs[0].set_xticks(range(len(artists)))\n",
        "axs[0].set_xticklabels(\n",
        "    [f\"{artist.name}({artist.top_seller_begin_year})\" for artist in artists])\n",
        "axs[1].set_title(\"Vocabulary Size\")\n",
        "axs[1].set_xlabel(\"Artists\")\n",
        "axs[1].set_ylabel(\"Number of All Words\")\n",
        "axs[1].bar(range(len(artists)), [artist.normalized_words_count for artist in artists])\n",
        "axs[1].set_xticks(range(len(artists)))\n",
        "axs[1].set_xticklabels(\n",
        "    [f\"{artist.name}({artist.top_seller_begin_year})\" for artist in artists])\n",
        "plt.show()\n"
      ]
    },
    {
      "cell_type": "markdown",
      "metadata": {},
      "source": [
        "ghljkh"
      ]
    },
    {
      "cell_type": "code",
      "execution_count": 81,
      "metadata": {},
      "outputs": [
        {
          "data": {
            "image/png": "[encoded data removed]",
            "text/plain": [
              "<Figure size 2160x360 with 2 Axes>"
            ]
          },
          "metadata": {
            "needs_background": "light"
          },
          "output_type": "display_data"
        }
      ],
      "source": [
        "fig, axs = plt.subplots(1, 2, figsize=(30, 5))\n",
        "axs[0].set_title(\"Profanity Percentage\")\n",
        "axs[0].set_xlabel(\"Artists\")\n",
        "axs[0].set_ylabel(\"Percent of Profanity Words\")\n",
        "axs[0].bar(range(len(artists)), [artist.profanity_count /\n",
        "           artist.normalized_words_count*100 for artist in artists])\n",
        "axs[0].set_xticks(range(len(artists)))\n",
        "axs[0].set_xticklabels(\n",
        "    [f\"{artist.name}({artist.top_seller_begin_year})\" for artist in artists])\n",
        "axs[1].set_title(\"Profanity Count\")\n",
        "axs[1].set_xlabel(\"Artists\")\n",
        "axs[1].set_ylabel(\"Count of Profanity Words\")\n",
        "axs[1].bar(range(len(artists)), [artist.profanity_count for artist in artists])\n",
        "axs[1].set_xticks(range(len(artists)))\n",
        "axs[1].set_xticklabels(\n",
        "    [f\"{artist.name}({artist.top_seller_begin_year})\" for artist in artists])\n",
        "plt.show()\n"
      ]
    },
    {
      "cell_type": "markdown",
      "metadata": {},
      "source": [
        "kjl;kj"
      ]
    }
  ],
  "metadata": {
    "colab": {
      "authorship_tag": "ABX9TyPOgAEDMIDhOp1gPYF4emtB",
      "collapsed_sections": [
        "8hySArqrxjvR"
      ],
      "include_colab_link": true,
      "name": "main.ipynb",
      "provenance": []
    },
    "kernelspec": {
      "display_name": "Python 3",
      "name": "python3"
    },
    "language_info": {
      "codemirror_mode": {
        "name": "ipython",
        "version": 3
      },
      "file_extension": ".py",
      "mimetype": "text/x-python",
      "name": "python",
      "nbconvert_exporter": "python",
      "pygments_lexer": "ipython3",
      "version": "3.10.4"
    }
  },
  "nbformat": 4,
  "nbformat_minor": 0
}
