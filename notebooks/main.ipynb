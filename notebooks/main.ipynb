{
  "nbformat": 4,
  "nbformat_minor": 0,
  "metadata": {
    "colab": {
      "name": "main.ipynb",
      "provenance": [],
      "collapsed_sections": [
        "8hySArqrxjvR"
      ],
      "authorship_tag": "ABX9TyPOgAEDMIDhOp1gPYF4emtB",
      "include_colab_link": true
    },
    "kernelspec": {
      "name": "python3",
      "display_name": "Python 3"
    },
    "language_info": {
      "name": "python"
    }
  },
  "cells": [
    {
      "cell_type": "markdown",
      "metadata": {
        "id": "view-in-github",
        "colab_type": "text"
      },
      "source": [
        "<a href=\"https://colab.research.google.com/github/Parsa2820/50-years-lyrics/blob/master/notebooks/main.ipynb\" target=\"_parent\"><img src=\"https://colab.research.google.com/assets/colab-badge.svg\" alt=\"Open In Colab\"/></a>"
      ]
    },
    {
      "cell_type": "markdown",
      "source": [
        "### Sharif University of Technology\n",
        "Department of Computer Engineering\n",
        "\n",
        "---\n",
        "# Modern Information Retrieval Course\n",
        "# **50 Years of the Best-Selling Music Artists Lyrics Comparison**\n",
        "### Homework 2\n",
        "### Dr. Asgari\n",
        "### Parsa Mohammadian — 98102284\n",
        "Spring 2022\n",
        "\n",
        "---"
      ],
      "metadata": {
        "id": "uxzVzDeBuhnQ"
      }
    },
    {
      "cell_type": "markdown",
      "source": [
        "## Introduction\n",
        "\n",
        "Introduction here\n",
        "\n",
        "---"
      ],
      "metadata": {
        "id": "clJHGT4kxTiK"
      }
    },
    {
      "cell_type": "markdown",
      "source": [
        "## Required Libraries\n",
        "\n",
        "---"
      ],
      "metadata": {
        "id": "_hT2I1qByZFg"
      }
    },
    {
      "cell_type": "code",
      "source": [
        "\"\"\"\n",
        "Run this cell to install required python packages.\n",
        "Skip if you have already installed following packages.\n",
        "\"\"\"\n",
        "!pip install pandas\n",
        "!pip install tqdm\n",
        "!pip install nltk"
      ],
      "metadata": {
        "id": "BU5Yl04FyggQ"
      },
      "execution_count": null,
      "outputs": []
    },
    {
      "cell_type": "code",
      "source": [
        "import pandas as pd\n",
        "import tqdm\n",
        "import nltk"
      ],
      "metadata": {
        "id": "DkL_iCaOyv6b"
      },
      "execution_count": null,
      "outputs": []
    },
    {
      "cell_type": "markdown",
      "source": [
        "## Dataset\n",
        "Overview and extraction process of dataset here\n",
        "\n",
        "---"
      ],
      "metadata": {
        "id": "8hySArqrxjvR"
      }
    },
    {
      "cell_type": "code",
      "source": [
        "\"\"\"\n",
        "Read data\n",
        "\"\"\""
      ],
      "metadata": {
        "id": "ks4lM_1v0EOw"
      },
      "execution_count": null,
      "outputs": []
    }
  ]
}