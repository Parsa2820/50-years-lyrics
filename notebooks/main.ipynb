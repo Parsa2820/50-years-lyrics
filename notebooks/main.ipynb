{
  "cells": [
    {
      "cell_type": "markdown",
      "metadata": {
        "colab_type": "text",
        "id": "view-in-github"
      },
      "source": [
        "<a href=\"https://colab.research.google.com/github/Parsa2820/50-years-lyrics/blob/master/notebooks/main.ipynb\" target=\"_parent\"><img src=\"https://colab.research.google.com/assets/colab-badge.svg\" alt=\"Open In Colab\"/></a>"
      ]
    },
    {
      "cell_type": "markdown",
      "metadata": {
        "id": "uxzVzDeBuhnQ"
      },
      "source": [
        "### Sharif University of Technology\n",
        "Department of Computer Engineering\n",
        "\n",
        "---\n",
        "# Modern Information Retrieval Course\n",
        "# **50 Years of the Best-Selling Music Artists Lyrics Comparison**\n",
        "### Homework 2\n",
        "### Dr. Asgari\n",
        "### Parsa Mohammadian — 98102284\n",
        "Spring 2022\n",
        "\n",
        "---"
      ]
    },
    {
      "cell_type": "markdown",
      "metadata": {
        "id": "clJHGT4kxTiK"
      },
      "source": [
        "## Introduction\n",
        "The art of music play an important role in the human world. Besides the instrumental aspect, lyrics and content of a music are also important. In this project, I will explore and compare the lyrics of the best-selling music artists in a 50 years period (from 1969 to 2019). This list is taken from [Visual Capitalist](https://www.visualcapitalist.com/chart-toppers-50-years-of-the-best-selling-music-artists/) website. They have also visualized this data in an awesome [video](https://www.youtube.com/watch?v=a3w8I8boc_I). For the reference, I will use the image bellow to pick artist that has been top-selling for at least one consecutive year. Since the dataset is not provided, I have hardcoded the artists and their info in the code.\n",
        "\n",
        "![top-seller-chart](../resources/top-sellers-chart.jpg)\n",
        "\n",
        "---"
      ]
    },
    {
      "cell_type": "code",
      "execution_count": 11,
      "metadata": {},
      "outputs": [],
      "source": [
        "class Artist:\n",
        "    def __init__(self, name: str, top_seller_begin_year: int):\n",
        "        self.name: str = name\n",
        "        self.top_seller_begin_year: int = top_seller_begin_year\n",
        "        self.lyrics: pd.DataFrame = None\n",
        "        self.normalized_words_count: int = 0\n",
        "        self.profanity_count: int = 0\n",
        "\n",
        "artists = [\n",
        "    Artist(\"The Beatles\", 1969),\n",
        "    Artist(\"Elvis Presley\", 1973),\n",
        "    Artist(\"Elton John\", 1975),\n",
        "    Artist(\"Eagles\", 1977),\n",
        "    Artist(\"Michael Jackson\", 1980),\n",
        "    Artist(\"Madonna\", 1985),\n",
        "    Artist(\"Eminem\", 2001),\n",
        "    Artist(\"Rihanna\", 2008),\n",
        "    Artist(\"Drake\", 2013)\n",
        "]"
      ]
    },
    {
      "cell_type": "markdown",
      "metadata": {
        "id": "_hT2I1qByZFg"
      },
      "source": [
        "## Required Libraries\n",
        "\n",
        "---"
      ]
    },
    {
      "cell_type": "code",
      "execution_count": 12,
      "metadata": {
        "id": "BU5Yl04FyggQ"
      },
      "outputs": [
        {
          "name": "stdout",
          "output_type": "stream",
          "text": [
            "Requirement already satisfied: pandas in c:\\users\\p.mohammadian\\appdata\\local\\packages\\pythonsoftwarefoundation.python.3.10_qbz5n2kfra8p0\\localcache\\local-packages\\python310\\site-packages (1.4.2)\n",
            "Requirement already satisfied: numpy>=1.21.0 in c:\\users\\p.mohammadian\\appdata\\local\\packages\\pythonsoftwarefoundation.python.3.10_qbz5n2kfra8p0\\localcache\\local-packages\\python310\\site-packages (from pandas) (1.22.3)\n",
            "Requirement already satisfied: python-dateutil>=2.8.1 in c:\\users\\p.mohammadian\\appdata\\local\\packages\\pythonsoftwarefoundation.python.3.10_qbz5n2kfra8p0\\localcache\\local-packages\\python310\\site-packages (from pandas) (2.8.2)\n",
            "Requirement already satisfied: pytz>=2020.1 in c:\\users\\p.mohammadian\\appdata\\local\\packages\\pythonsoftwarefoundation.python.3.10_qbz5n2kfra8p0\\localcache\\local-packages\\python310\\site-packages (from pandas) (2022.1)\n",
            "Requirement already satisfied: six>=1.5 in c:\\users\\p.mohammadian\\appdata\\local\\packages\\pythonsoftwarefoundation.python.3.10_qbz5n2kfra8p0\\localcache\\local-packages\\python310\\site-packages (from python-dateutil>=2.8.1->pandas) (1.16.0)\n",
            "Requirement already satisfied: tqdm in c:\\users\\p.mohammadian\\appdata\\local\\packages\\pythonsoftwarefoundation.python.3.10_qbz5n2kfra8p0\\localcache\\local-packages\\python310\\site-packages (4.64.0)\n",
            "Requirement already satisfied: colorama in c:\\users\\p.mohammadian\\appdata\\local\\packages\\pythonsoftwarefoundation.python.3.10_qbz5n2kfra8p0\\localcache\\local-packages\\python310\\site-packages (from tqdm) (0.4.4)\n",
            "Requirement already satisfied: nltk in c:\\users\\p.mohammadian\\appdata\\local\\packages\\pythonsoftwarefoundation.python.3.10_qbz5n2kfra8p0\\localcache\\local-packages\\python310\\site-packages (3.7)\n",
            "Requirement already satisfied: tqdm in c:\\users\\p.mohammadian\\appdata\\local\\packages\\pythonsoftwarefoundation.python.3.10_qbz5n2kfra8p0\\localcache\\local-packages\\python310\\site-packages (from nltk) (4.64.0)\n",
            "Requirement already satisfied: regex>=2021.8.3 in c:\\users\\p.mohammadian\\appdata\\local\\packages\\pythonsoftwarefoundation.python.3.10_qbz5n2kfra8p0\\localcache\\local-packages\\python310\\site-packages (from nltk) (2022.3.15)\n",
            "Requirement already satisfied: click in c:\\users\\p.mohammadian\\appdata\\local\\packages\\pythonsoftwarefoundation.python.3.10_qbz5n2kfra8p0\\localcache\\local-packages\\python310\\site-packages (from nltk) (8.1.2)\n",
            "Requirement already satisfied: joblib in c:\\users\\p.mohammadian\\appdata\\local\\packages\\pythonsoftwarefoundation.python.3.10_qbz5n2kfra8p0\\localcache\\local-packages\\python310\\site-packages (from nltk) (1.1.0)\n",
            "Requirement already satisfied: colorama in c:\\users\\p.mohammadian\\appdata\\local\\packages\\pythonsoftwarefoundation.python.3.10_qbz5n2kfra8p0\\localcache\\local-packages\\python310\\site-packages (from click->nltk) (0.4.4)\n",
            "Requirement already satisfied: better-profanity in c:\\users\\p.mohammadian\\appdata\\local\\packages\\pythonsoftwarefoundation.python.3.10_qbz5n2kfra8p0\\localcache\\local-packages\\python310\\site-packages (0.7.0)\n"
          ]
        }
      ],
      "source": [
        "\"\"\"\n",
        "Run this cell to install required python packages.\n",
        "Skip if you have already installed following packages.\n",
        "\"\"\"\n",
        "!pip install pandas\n",
        "!pip install tqdm\n",
        "!pip install nltk\n",
        "!pip install better-profanity"
      ]
    },
    {
      "cell_type": "code",
      "execution_count": 13,
      "metadata": {
        "id": "DkL_iCaOyv6b"
      },
      "outputs": [],
      "source": [
        "import re\n",
        "import string\n",
        "import itertools\n",
        "import functools\n",
        "import pandas as pd\n",
        "import tqdm\n",
        "import nltk\n",
        "import better_profanity as bp"
      ]
    },
    {
      "cell_type": "code",
      "execution_count": 14,
      "metadata": {},
      "outputs": [
        {
          "name": "stderr",
          "output_type": "stream",
          "text": [
            "[nltk_data] Downloading package punkt to\n",
            "[nltk_data]     C:\\Users\\p.mohammadian\\AppData\\Roaming\\nltk_data...\n",
            "[nltk_data]   Package punkt is already up-to-date!\n",
            "[nltk_data] Downloading package stopwords to\n",
            "[nltk_data]     C:\\Users\\p.mohammadian\\AppData\\Roaming\\nltk_data...\n",
            "[nltk_data]   Package stopwords is already up-to-date!\n"
          ]
        },
        {
          "data": {
            "text/plain": [
              "True"
            ]
          },
          "execution_count": 14,
          "metadata": {},
          "output_type": "execute_result"
        }
      ],
      "source": [
        "pd.set_option('display.expand_frame_repr', False)\n",
        "nltk.download(\"punkt\")\n",
        "nltk.download(\"stopwords\")\n"
      ]
    },
    {
      "cell_type": "markdown",
      "metadata": {
        "id": "8hySArqrxjvR"
      },
      "source": [
        "## Dataset\n",
        "The dataset consists of multiple csv files, each file named as \"`<artist> Lyrics.csv`\" and contains all songs of the artist with their lyrics. I have written the script in [dataset/lyrics-script](../datasets/lyrics-script/genius.py) to generate the dataset. In order to get lyrics, I used [Genius](https://genius.com/) API. It worths mentioning that the order of the songs in every file is according to the number of views of the song in Genius website.\n",
        "\n",
        "---"
      ]
    },
    {
      "cell_type": "code",
      "execution_count": 15,
      "metadata": {
        "id": "ks4lM_1v0EOw"
      },
      "outputs": [
        {
          "name": "stderr",
          "output_type": "stream",
          "text": [
            "100%|██████████| 9/9 [00:00<00:00, 30.69it/s]"
          ]
        },
        {
          "name": "stdout",
          "output_type": "stream",
          "text": [
            "\n",
            "The Beatles with 1660 songs\n",
            "     song_name                                        song_lyrics\n",
            "idx                                                              \n",
            "0    Let It Be  Let It Be Lyrics[Verse 1]\\r\\nWhen I find mysel...\n",
            "\n",
            "Elvis Presley with 1622 songs\n",
            "                      song_name                                        song_lyrics\n",
            "idx                                                                               \n",
            "0    Can’t Help Falling in Love  Can’t Help Falling in Love Lyrics[Verse 1]\\r\\n...\n",
            "\n",
            "Elton John with 1204 songs\n",
            "     song_name                                        song_lyrics\n",
            "idx                                                              \n",
            "0    Your Song  Your Song Lyrics[Verse 1]\\r\\nIt's a little bit...\n",
            "\n",
            "Eagles with 270 songs\n",
            "            song_name                                        song_lyrics\n",
            "idx                                                                     \n",
            "0    Hotel California  Hotel California Lyrics[Verse 1]\\r\\nOn a dark ...\n",
            "\n",
            "Michael Jackson with 1384 songs\n",
            "       song_name                                        song_lyrics\n",
            "idx                                                                \n",
            "0    Billie Jean  Billie Jean Lyrics[Verse 1]\\r\\nShe was more li...\n",
            "\n",
            "Madonna with 2044 songs\n",
            "         song_name                                        song_lyrics\n",
            "idx                                                                  \n",
            "0    Like a Prayer  Like a Prayer Lyrics[Intro]\\r\\nLife is a myste...\n",
            "\n",
            "Eminem with 1016 songs\n",
            "    song_name                                        song_lyrics\n",
            "idx                                                             \n",
            "0     Rap God  Rap God Lyrics[Intro]\\r\\n\"Look, I was gonna go...\n",
            "\n",
            "Rihanna with 800 songs\n",
            "    song_name                                        song_lyrics\n",
            "idx                                                             \n",
            "0        Work  Work Lyrics[Chorus: Rihanna]\\r\\nWork, work, wo...\n",
            "\n",
            "Drake with 1012 songs\n",
            "      song_name                                        song_lyrics\n",
            "idx                                                               \n",
            "0    God’s Plan  God’s Plan Lyrics[Intro]\\r\\nAnd they wishin' a...\n"
          ]
        },
        {
          "name": "stderr",
          "output_type": "stream",
          "text": [
            "\n"
          ]
        }
      ],
      "source": [
        "\"\"\"\n",
        "Load data\n",
        "\"\"\"\n",
        "DATA_FILE_PREFIX = \"../datasets/\"\n",
        "DATA_FILE_SUFFIX = \" Lyrics.csv\"\n",
        "\n",
        "for artist in tqdm.tqdm(artists):\n",
        "    artist.lyrics = pd.read_csv(f\"{DATA_FILE_PREFIX}{artist.name}{DATA_FILE_SUFFIX}\")\n",
        "    artist.lyrics.rename(columns={\"Unnamed: 0\": \"idx\"}, inplace=True)\n",
        "    artist.lyrics.set_index(\"idx\", inplace=True)\n",
        "    artist.lyrics.dropna(inplace=True)\n",
        "\n",
        "for artist in artists:\n",
        "    print(f\"\\n{artist.name} with {artist.lyrics.size} songs\", artist.lyrics.head(1), sep='\\n')"
      ]
    },
    {
      "cell_type": "markdown",
      "metadata": {},
      "source": [
        "## Tokenization\n",
        "\n",
        "---"
      ]
    },
    {
      "cell_type": "code",
      "execution_count": 16,
      "metadata": {},
      "outputs": [],
      "source": [
        "for artist in artists:\n",
        "    artist.lyrics[\"song_lyrics_tokenized\"] = artist.lyrics[\"song_lyrics\"].apply(lambda x: nltk.word_tokenize(x))"
      ]
    },
    {
      "cell_type": "markdown",
      "metadata": {},
      "source": [
        "## Normalization\n",
        "\n",
        "---"
      ]
    },
    {
      "cell_type": "code",
      "execution_count": 17,
      "metadata": {},
      "outputs": [],
      "source": [
        "def to_lower(tokens):\n",
        "    \"\"\"\n",
        "    Converts the tokens to lower case.\n",
        "    \"\"\"\n",
        "    return [token.lower() for token in tokens]\n",
        "\n",
        "\n",
        "def remove_lyrics_tags(tokens):\n",
        "    \"\"\"\n",
        "    Removes the tags added by Genius from the lyrics. \n",
        "    For example, [Chorus], [Verse 1], ...\n",
        "    \"\"\"\n",
        "    new_tokens = []\n",
        "    tag = False\n",
        "    for i in range(len(tokens)):\n",
        "        if tokens[i] == '[':\n",
        "            tag = True\n",
        "        elif tokens[i] == ']':\n",
        "            tag = False\n",
        "        elif not tag:\n",
        "            new_tokens.append(tokens[i])\n",
        "    return new_tokens\n",
        "\n",
        "\n",
        "def remove_song_name(tokens):\n",
        "    \"\"\"\n",
        "    Removes the song name from the tokens.\n",
        "    \"\"\"\n",
        "    keyword = \"lyrics\"\n",
        "    if keyword in tokens:\n",
        "        return tokens[tokens.index(keyword) + 1:]\n",
        "    return tokens[:]\n",
        "\n",
        "\n",
        "def remove_punctuation(tokens):\n",
        "    \"\"\"\n",
        "    Removes punctuation from the given tokens.\n",
        "    \"\"\"\n",
        "    return [token for token in tokens if token not in string.punctuation]\n",
        "\n",
        "\n",
        "def remove_stop_words(tokens):\n",
        "    \"\"\"\n",
        "    Removes stop words from the given tokens.\n",
        "    \"\"\"\n",
        "    remove_stop_words.stop_words = set(nltk.corpus.stopwords.words('english'))\n",
        "    return [token for token in tokens if token not in remove_stop_words.stop_words]\n",
        "\n",
        "\n",
        "def normalize_lyrics(tokens):\n",
        "    \"\"\"\n",
        "    Normalizes the tokens of the lyrics.\n",
        "    \"\"\"\n",
        "    normalization_functions = [to_lower, remove_lyrics_tags, remove_song_name, remove_punctuation, remove_stop_words]\n",
        "    return functools.reduce(lambda x, f: f(x), normalization_functions, tokens)\n"
      ]
    },
    {
      "cell_type": "code",
      "execution_count": 18,
      "metadata": {},
      "outputs": [],
      "source": [
        "for artist in artists:\n",
        "    artist.lyrics[\"song_lyrics_normalized\"] = artist.lyrics[\"song_lyrics_tokenized\"].apply(normalize_lyrics)"
      ]
    },
    {
      "cell_type": "markdown",
      "metadata": {},
      "source": [
        "## Profanity Analysis and Removal\n",
        "\n",
        "---"
      ]
    },
    {
      "cell_type": "code",
      "execution_count": 26,
      "metadata": {},
      "outputs": [
        {
          "name": "stderr",
          "output_type": "stream",
          "text": [
            "The Beatles lyrics: 100%|██████████| 830/830 [00:42<00:00, 19.36it/s]\n",
            "Elvis Presley lyrics: 100%|██████████| 811/811 [00:26<00:00, 30.13it/s]\n",
            "Elton John lyrics: 100%|██████████| 602/602 [00:25<00:00, 23.49it/s]\n",
            "Eagles lyrics: 100%|██████████| 135/135 [00:05<00:00, 23.90it/s]\n",
            "Michael Jackson lyrics: 100%|██████████| 692/692 [01:00<00:00, 11.52it/s]\n",
            "Madonna lyrics: 100%|██████████| 1022/1022 [01:16<00:00, 13.36it/s]\n",
            "Eminem lyrics: 100%|██████████| 508/508 [01:15<00:00,  6.75it/s]\n",
            "Rihanna lyrics: 100%|██████████| 400/400 [00:36<00:00, 10.99it/s]\n",
            "Drake lyrics: 100%|██████████| 506/506 [00:48<00:00, 10.39it/s]\n"
          ]
        }
      ],
      "source": [
        "for artist in artists:\n",
        "    for l in tqdm.tqdm(artist.lyrics[\"song_lyrics_normalized\"], desc=f\"{artist.name} lyrics\"):\n",
        "        for token in l:\n",
        "            if bp.profanity.contains_profanity(token):\n",
        "                artist.profanity_count += 1\n",
        "            "
      ]
    },
    {
      "cell_type": "code",
      "execution_count": 27,
      "metadata": {},
      "outputs": [
        {
          "name": "stdout",
          "output_type": "stream",
          "text": [
            "The Beatles has 879 profanity words\n",
            "Elvis Presley has 362 profanity words\n",
            "Elton John has 930 profanity words\n",
            "Eagles has 104 profanity words\n",
            "Michael Jackson has 1136 profanity words\n",
            "Madonna has 3107 profanity words\n",
            "Eminem has 8860 profanity words\n",
            "Rihanna has 980 profanity words\n",
            "Drake has 4663 profanity words\n"
          ]
        }
      ],
      "source": [
        "for artist in artists:\n",
        "    print(f\"{artist.name} has {artist.profanity_count} profanity words\")"
      ]
    },
    {
      "cell_type": "markdown",
      "metadata": {},
      "source": [
        "## Stemming and Lemmatization\n",
        "\n",
        "---"
      ]
    },
    {
      "cell_type": "code",
      "execution_count": null,
      "metadata": {},
      "outputs": [],
      "source": []
    }
  ],
  "metadata": {
    "colab": {
      "authorship_tag": "ABX9TyPOgAEDMIDhOp1gPYF4emtB",
      "collapsed_sections": [
        "8hySArqrxjvR"
      ],
      "include_colab_link": true,
      "name": "main.ipynb",
      "provenance": []
    },
    "kernelspec": {
      "display_name": "Python 3",
      "name": "python3"
    },
    "language_info": {
      "codemirror_mode": {
        "name": "ipython",
        "version": 3
      },
      "file_extension": ".py",
      "mimetype": "text/x-python",
      "name": "python",
      "nbconvert_exporter": "python",
      "pygments_lexer": "ipython3",
      "version": "3.10.4"
    }
  },
  "nbformat": 4,
  "nbformat_minor": 0
}
